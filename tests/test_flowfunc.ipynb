{
 "cells": [
  {
   "cell_type": "code",
   "execution_count": 54,
   "metadata": {},
   "outputs": [],
   "source": [
    "a=print(([1,2,3],1,{'a':1}),file=open('result.log','a+'))"
   ]
  },
  {
   "cell_type": "code",
   "execution_count": 72,
   "metadata": {},
   "outputs": [
    {
     "ename": "TypeError",
     "evalue": "abs() takes exactly one argument (3 given)",
     "output_type": "error",
     "traceback": [
      "\u001b[1;31m---------------------------------------------------------------------------\u001b[0m",
      "\u001b[1;31mTypeError\u001b[0m                                 Traceback (most recent call last)",
      "Cell \u001b[1;32mIn[72], line 1\u001b[0m\n\u001b[1;32m----> 1\u001b[0m \u001b[38;5;28;43mabs\u001b[39;49m\u001b[43m(\u001b[49m\u001b[38;5;241;43m1\u001b[39;49m\u001b[43m,\u001b[49m\u001b[38;5;241;43m2\u001b[39;49m\u001b[43m,\u001b[49m\u001b[38;5;241;43m3\u001b[39;49m\u001b[43m)\u001b[49m\n",
      "\u001b[1;31mTypeError\u001b[0m: abs() takes exactly one argument (3 given)"
     ]
    }
   ],
   "source": [
    "abs(1,2,3)"
   ]
  },
  {
   "cell_type": "code",
   "execution_count": 78,
   "metadata": {},
   "outputs": [
    {
     "name": "stdout",
     "output_type": "stream",
     "text": [
      "None\n",
      "3\n"
     ]
    }
   ],
   "source": [
    "fn_extend={\n",
    "    \"log\": lambda *x,file='result':\n",
    "        print(x,file=open(f'{file}.log','a+')),\n",
    "    \"m_abs\": lambda *x,m_func='max':\n",
    "        eval(m_func)((abs(i) for i in x))\n",
    "}\n",
    "a=fn_extend['log'](1,2,3,{'a':2})\n",
    "print(a)\n",
    "a = fn_extend['m_abs'](1,-2,-3,m_func='max')\n",
    "print(a)"
   ]
  },
  {
   "cell_type": "code",
   "execution_count": 82,
   "metadata": {},
   "outputs": [],
   "source": [
    "# Fc = lambda i,o : nn.Linear(i,o)\n",
    "# Act = lambda i,o : nn.ReLU()\n",
    "\n",
    "def Fc(i,o):\n",
    "    return nn.Linear(i,o)\n",
    "\n",
    "def Act(i,o):\n",
    "    return nn.ReLU()"
   ]
  },
  {
   "cell_type": "code",
   "execution_count": 84,
   "metadata": {},
   "outputs": [
    {
     "data": {
      "text/plain": [
       "<function __main__.Fc(i, o)>"
      ]
     },
     "execution_count": 84,
     "metadata": {},
     "output_type": "execute_result"
    }
   ],
   "source": [
    "Fc"
   ]
  },
  {
   "cell_type": "code",
   "execution_count": 65,
   "metadata": {},
   "outputs": [
    {
     "data": {
      "text/plain": [
       "True"
      ]
     },
     "execution_count": 65,
     "metadata": {},
     "output_type": "execute_result"
    }
   ],
   "source": [
    "a is None"
   ]
  },
  {
   "cell_type": "code",
   "execution_count": 1,
   "metadata": {},
   "outputs": [
    {
     "name": "stdout",
     "output_type": "stream",
     "text": [
      "d:\\Code\\Skorch\\src\\FormulaNeo\\src\n"
     ]
    },
    {
     "data": {
      "text/plain": [
       "<module 'FormulaNeo.flowfunc' from 'd:\\\\Code\\\\Skorch\\\\src\\\\FormulaNeo\\\\src\\\\FormulaNeo\\\\flowfunc.py'>"
      ]
     },
     "execution_count": 1,
     "metadata": {},
     "output_type": "execute_result"
    }
   ],
   "source": [
    "%cd \"../src\"\n",
    "%pwd\n",
    "from FormulaNeo import flowfunc\n",
    "import importlib\n",
    "importlib.reload(flowfunc)"
   ]
  },
  {
   "cell_type": "code",
   "execution_count": 3,
   "metadata": {},
   "outputs": [
    {
     "name": "stdout",
     "output_type": "stream",
     "text": [
      "module\n",
      "get_name\n",
      "FuncModel\n",
      "seq>Fn()\n"
     ]
    }
   ],
   "source": [
    "print(flowfunc.get_name(flowfunc))\n",
    "print(flowfunc.get_name(flowfunc.get_name))\n",
    "print(flowfunc.get_name(flowfunc.FuncModel))\n",
    "print(flowfunc.get_name(flowfunc.FuncModel()))"
   ]
  },
  {
   "cell_type": "code",
   "execution_count": 11,
   "metadata": {},
   "outputs": [
    {
     "name": "stdout",
     "output_type": "stream",
     "text": [
      "[1, {'a': 1, 'c': 2}]\n",
      " (0): max\n",
      "  $ [-1, -2] >>\n",
      "  == -1\n",
      " (1): abs\n",
      "  $ (-1,) >>\n",
      "  == 1\n",
      "1\n"
     ]
    }
   ],
   "source": [
    "flowfunc.IS_PCALL=1\n",
    "req=flowfunc.seq({},1,a=1,c=2)\n",
    "print(req)\n",
    "req=flowfunc.seq({0:max,1:abs},-1,-2)\n",
    "print(req)"
   ]
  },
  {
   "cell_type": "code",
   "execution_count": 13,
   "metadata": {},
   "outputs": [
    {
     "name": "stdout",
     "output_type": "stream",
     "text": [
      "[1, {'a': 1, 'c': 2}]\n",
      " (0): max\n",
      "  $ [-1, -2] >>\n",
      "  == -1\n",
      " (1): min\n",
      "  $ [-1, -2] >>\n",
      "  == -2\n",
      "[-1, -2]\n"
     ]
    }
   ],
   "source": [
    "flowfunc.IS_PCALL=1\n",
    "req=flowfunc.lic({},1,a=1,c=2)\n",
    "print(req)\n",
    "req=flowfunc.lic({0:max,1:min},-1,-2)\n",
    "print(req)"
   ]
  }
 ],
 "metadata": {
  "kernelspec": {
   "display_name": ".venv",
   "language": "python",
   "name": "python3"
  },
  "language_info": {
   "codemirror_mode": {
    "name": "ipython",
    "version": 3
   },
   "file_extension": ".py",
   "mimetype": "text/x-python",
   "name": "python",
   "nbconvert_exporter": "python",
   "pygments_lexer": "ipython3",
   "version": "3.11.8"
  }
 },
 "nbformat": 4,
 "nbformat_minor": 2
}

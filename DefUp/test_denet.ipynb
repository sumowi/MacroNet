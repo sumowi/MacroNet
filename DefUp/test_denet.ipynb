{
 "cells": [
  {
   "cell_type": "code",
   "execution_count": 140,
   "metadata": {},
   "outputs": [
    {
     "name": "stdout",
     "output_type": "stream",
     "text": [
      "[Errno 2] No such file or directory: '/home/myf/Skorch/src/DefUp/'\n",
      "/home/myf/Skorch/src/DeNet\n"
     ]
    }
   ],
   "source": [
    "%cd \"~/Skorch/src/DefUp/\""
   ]
  },
  {
   "cell_type": "code",
   "execution_count": 136,
   "metadata": {},
   "outputs": [
    {
     "ename": "ModuleNotFoundError",
     "evalue": "No module named 'defup'",
     "output_type": "error",
     "traceback": [
      "\u001b[0;31m---------------------------------------------------------------------------\u001b[0m",
      "\u001b[0;31mModuleNotFoundError\u001b[0m                       Traceback (most recent call last)",
      "\u001b[1;32md:\\Code\\Skorch\\src\\DeNet\\test_denet.ipynb 单元格 2\u001b[0m line \u001b[0;36m3\n\u001b[1;32m      <a href='vscode-notebook-cell:/d%3A/Code/Skorch/src/DeNet/test_denet.ipynb#W1sZmlsZQ%3D%3D?line=0'>1</a>\u001b[0m \u001b[39mimport\u001b[39;00m \u001b[39mtorch\u001b[39;00m\n\u001b[1;32m      <a href='vscode-notebook-cell:/d%3A/Code/Skorch/src/DeNet/test_denet.ipynb#W1sZmlsZQ%3D%3D?line=1'>2</a>\u001b[0m \u001b[39mimport\u001b[39;00m \u001b[39mtorch\u001b[39;00m\u001b[39m.\u001b[39;00m\u001b[39mnn\u001b[39;00m \u001b[39mas\u001b[39;00m \u001b[39mnn\u001b[39;00m\n\u001b[0;32m----> <a href='vscode-notebook-cell:/d%3A/Code/Skorch/src/DeNet/test_denet.ipynb#W1sZmlsZQ%3D%3D?line=2'>3</a>\u001b[0m \u001b[39mimport\u001b[39;00m \u001b[39mdefup\u001b[39;00m \u001b[39mas\u001b[39;00m \u001b[39mdup\u001b[39;00m\n\u001b[1;32m      <a href='vscode-notebook-cell:/d%3A/Code/Skorch/src/DeNet/test_denet.ipynb#W1sZmlsZQ%3D%3D?line=3'>4</a>\u001b[0m \u001b[39mimport\u001b[39;00m \u001b[39mimportlib\u001b[39;00m\n\u001b[1;32m      <a href='vscode-notebook-cell:/d%3A/Code/Skorch/src/DeNet/test_denet.ipynb#W1sZmlsZQ%3D%3D?line=4'>5</a>\u001b[0m importlib\u001b[39m.\u001b[39mreload(dn)\n",
      "\u001b[0;31mModuleNotFoundError\u001b[0m: No module named 'defup'"
     ]
    }
   ],
   "source": [
    "import torch\n",
    "import torch.nn as nn\n",
    "import defup as dup\n",
    "import importlib\n",
    "importlib.reload(dn)"
   ]
  },
  {
   "cell_type": "code",
   "execution_count": 118,
   "metadata": {},
   "outputs": [
    {
     "data": {
      "text/plain": [
       "LIC>Module(\n",
       "  (0): SEQ>Module(\n",
       "    (0): @dup:sum\n",
       "    (1): @dup:abs\n",
       "  )\n",
       "  (1): @dup:max\n",
       ")"
      ]
     },
     "execution_count": 118,
     "metadata": {},
     "output_type": "execute_result"
    }
   ],
   "source": [
    "dup.m([sum,abs])+max"
   ]
  },
  {
   "cell_type": "code",
   "execution_count": 119,
   "metadata": {},
   "outputs": [
    {
     "data": {
      "text/plain": [
       "LIC>Module(\n",
       "  (0): SEQ>Module(\n",
       "    (0): @dup:sum\n",
       "    (1): @dup:abs\n",
       "  )\n",
       "  (1): @dup:max\n",
       ")"
      ]
     },
     "execution_count": 119,
     "metadata": {},
     "output_type": "execute_result"
    }
   ],
   "source": [
    "dn.M([sum,abs])+max"
   ]
  },
  {
   "cell_type": "code",
   "execution_count": 113,
   "metadata": {},
   "outputs": [
    {
     "data": {
      "text/plain": [
       "@dup:sum2"
      ]
     },
     "execution_count": 113,
     "metadata": {},
     "output_type": "execute_result"
    }
   ],
   "source": [
    "@dn.M.dup\n",
    "def sum2(x):\n",
    "    return sum(x)\n",
    "sum2"
   ]
  },
  {
   "cell_type": "code",
   "execution_count": 122,
   "metadata": {},
   "outputs": [
    {
     "data": {
      "text/plain": [
       "SEQ>Module(\n",
       "  (0): LIC>Module(\n",
       "    (0): SEQ>Module(\n",
       "      (0): @dup:sum\n",
       "      (1): @dup:abs\n",
       "    )\n",
       "    (1): @dup:max\n",
       "  )\n",
       "  (1): LIC>Module(\n",
       "    (0): SEQ>Module(\n",
       "      (0): @dup:sum\n",
       "      (1): @dup:abs\n",
       "    )\n",
       "    (1): @dup:min\n",
       "  )\n",
       ")"
      ]
     },
     "execution_count": 122,
     "metadata": {},
     "output_type": "execute_result"
    }
   ],
   "source": [
    "A1=dn.M()*sum*abs+max\n",
    "A2=dn.m([sum,abs])+min\n",
    "A=A1*A2\n",
    "A"
   ]
  },
  {
   "cell_type": "code",
   "execution_count": 123,
   "metadata": {},
   "outputs": [
    {
     "data": {
      "text/plain": [
       "SEQ>Module(\n",
       "  (0): @dup:sum\n",
       "  (1): @dup:abs\n",
       "  (2): @dup:sum\n",
       "  (3): @dup:abs\n",
       ")"
      ]
     },
     "execution_count": 123,
     "metadata": {},
     "output_type": "execute_result"
    }
   ],
   "source": [
    "A1=dn.M([sum,abs])\n",
    "A=dn.m([sum,abs])*A1\n",
    "A"
   ]
  },
  {
   "cell_type": "code",
   "execution_count": 124,
   "metadata": {},
   "outputs": [
    {
     "data": {
      "text/plain": [
       "SEQ>Module(\n",
       "  (0): @dup:sum\n",
       "  (1): @dup:abs\n",
       ")"
      ]
     },
     "execution_count": 124,
     "metadata": {},
     "output_type": "execute_result"
    }
   ],
   "source": [
    "dn.m([sum,abs])"
   ]
  },
  {
   "cell_type": "code",
   "execution_count": 127,
   "metadata": {},
   "outputs": [
    {
     "data": {
      "text/plain": [
       "sum>Module()"
      ]
     },
     "execution_count": 127,
     "metadata": {},
     "output_type": "execute_result"
    }
   ],
   "source": [
    "dn.M(call=sum)"
   ]
  },
  {
   "cell_type": "code",
   "execution_count": 130,
   "metadata": {},
   "outputs": [
    {
     "name": "stdout",
     "output_type": "stream",
     "text": [
      "LIC>Module(\n",
      "  (0): SEQ>Module(\n",
      "    (0): LIC>Module(\n",
      "      (0): SEQ>Module(\n",
      "        (0): @dup:sum\n",
      "        (1): @dup:abs\n",
      "      )\n",
      "      (1): @dup:max\n",
      "    )\n",
      "    (1): @dup:min\n",
      "  )\n",
      "  (1): @dup:max\n",
      ")\n"
     ]
    }
   ],
   "source": [
    "F=(dn.m()*sum*abs+max)*min+max\n",
    "print(F)\n",
    "# F([1,2,3])"
   ]
  },
  {
   "cell_type": "code",
   "execution_count": 131,
   "metadata": {},
   "outputs": [
    {
     "data": {
      "text/plain": [
       "SEQ>Module(\n",
       "  (0): @dup:Linear(in_features=10, out_features=10, bias=True)\n",
       "  (1): @dup:Linear(in_features=10, out_features=1, bias=True)\n",
       "  (2): @dup:Linear(in_features=10, out_features=10, bias=True)\n",
       "  (3): @dup:Linear(in_features=10, out_features=1, bias=True)\n",
       ")"
      ]
     },
     "execution_count": 131,
     "metadata": {},
     "output_type": "execute_result"
    }
   ],
   "source": [
    "((dn.x*dn.nn.Linear(10,10))*nn.Linear(10,1))*((dn.x*dn.nn.Linear(10,10))*nn.Linear(10,1))"
   ]
  },
  {
   "cell_type": "code",
   "execution_count": 134,
   "metadata": {},
   "outputs": [
    {
     "data": {
      "text/plain": [
       "SEQ>Module(\n",
       "  (0): @dup:Linear(in_features=10, out_features=10, bias=True)\n",
       "  (1): @dup:Linear(in_features=10, out_features=1, bias=True)\n",
       "  (2): @dup:Linear(in_features=10, out_features=10, bias=True)\n",
       "  (3): @dup:Linear(in_features=10, out_features=1, bias=True)\n",
       ")"
      ]
     },
     "execution_count": 134,
     "metadata": {},
     "output_type": "execute_result"
    }
   ],
   "source": [
    "((dn.X*dn.nn.Linear(10,10))*nn.Linear(10,1))*((dn.X*dn.nn.Linear(10,10))*nn.Linear(10,1))"
   ]
  },
  {
   "cell_type": "code",
   "execution_count": 135,
   "metadata": {},
   "outputs": [
    {
     "name": "stdout",
     "output_type": "stream",
     "text": [
      "SEQ>Module(\n",
      "  (0): @dup:Linear(in_features=10, out_features=10, bias=True)\n",
      "  (1): @dup:Linear(in_features=10, out_features=10, bias=True)\n",
      "  (2): @dup:Linear(in_features=10, out_features=10, bias=True)\n",
      "  (3): @dup:Linear(in_features=10, out_features=1, bias=True)\n",
      ")\n",
      "input = ((tensor([[ 1.2457,  0.5899,  0.9253,  0.8750, -0.0632, -0.5125,  1.1636, -0.0407,\n",
      "         -1.3817, -0.3996]]),), {})\n"
     ]
    },
    {
     "ename": "AttributeError",
     "evalue": "'Module' object has no attribute 'items'",
     "output_type": "error",
     "traceback": [
      "\u001b[0;31m---------------------------------------------------------------------------\u001b[0m",
      "\u001b[0;31mAttributeError\u001b[0m                            Traceback (most recent call last)",
      "\u001b[1;32md:\\Code\\Skorch\\src\\DeNet\\test_denet.ipynb 单元格 13\u001b[0m line \u001b[0;36m3\n\u001b[1;32m      <a href='vscode-notebook-cell:/d%3A/Code/Skorch/src/DeNet/test_denet.ipynb#X16sZmlsZQ%3D%3D?line=0'>1</a>\u001b[0m F\u001b[39m=\u001b[39mdn\u001b[39m.\u001b[39mX\u001b[39m*\u001b[39mnn\u001b[39m.\u001b[39mLinear(\u001b[39m10\u001b[39m,\u001b[39m10\u001b[39m)\u001b[39m*\u001b[39mnn\u001b[39m.\u001b[39mLinear(\u001b[39m10\u001b[39m,\u001b[39m10\u001b[39m)\u001b[39m*\u001b[39mnn\u001b[39m.\u001b[39mLinear(\u001b[39m10\u001b[39m,\u001b[39m10\u001b[39m)\u001b[39m*\u001b[39mnn\u001b[39m.\u001b[39mLinear(\u001b[39m10\u001b[39m,\u001b[39m1\u001b[39m)\n\u001b[1;32m      <a href='vscode-notebook-cell:/d%3A/Code/Skorch/src/DeNet/test_denet.ipynb#X16sZmlsZQ%3D%3D?line=1'>2</a>\u001b[0m \u001b[39mprint\u001b[39m(F)\n\u001b[0;32m----> <a href='vscode-notebook-cell:/d%3A/Code/Skorch/src/DeNet/test_denet.ipynb#X16sZmlsZQ%3D%3D?line=2'>3</a>\u001b[0m F(dn\u001b[39m.\u001b[39;49mtorch\u001b[39m.\u001b[39;49mrandn(\u001b[39m1\u001b[39;49m,\u001b[39m10\u001b[39;49m))\n",
      "File \u001b[0;32m~/Skorch/src/DeNet/denet.py:67\u001b[0m, in \u001b[0;36mBase.<locals>.Module.__call__\u001b[0;34m(self, *args, **kwargs)\u001b[0m\n\u001b[1;32m     65\u001b[0m     \u001b[39mreturn\u001b[39;00m res[\u001b[39m0\u001b[39m] \u001b[39mif\u001b[39;00m \u001b[39mlen\u001b[39m(res)\u001b[39m==\u001b[39m\u001b[39m1\u001b[39m \u001b[39melse\u001b[39;00m res\n\u001b[1;32m     66\u001b[0m \u001b[39melse\u001b[39;00m:\n\u001b[0;32m---> 67\u001b[0m     \u001b[39mreturn\u001b[39;00m \u001b[39mself\u001b[39;49m\u001b[39m.\u001b[39;49mcall(\u001b[39mself\u001b[39;49m,\u001b[39m*\u001b[39;49margs,\u001b[39m*\u001b[39;49m\u001b[39m*\u001b[39;49mkwargs)\n",
      "File \u001b[0;32m~/Skorch/src/DeNet/denet.py:25\u001b[0m, in \u001b[0;36mSEQ\u001b[0;34m(ord, *args, **kwargs)\u001b[0m\n\u001b[1;32m     23\u001b[0m y \u001b[39m=\u001b[39m x \u001b[39m=\u001b[39m (args, kwargs)\n\u001b[1;32m     24\u001b[0m \u001b[39mprint\u001b[39m(\u001b[39mf\u001b[39m\u001b[39m\"\u001b[39m\u001b[39minput =\u001b[39m\u001b[39m\"\u001b[39m, x)\n\u001b[0;32m---> 25\u001b[0m \u001b[39mfor\u001b[39;00m i,func \u001b[39min\u001b[39;00m \u001b[39menumerate\u001b[39m(\u001b[39mord\u001b[39;49m\u001b[39m.\u001b[39;49mitems()):\n\u001b[1;32m     26\u001b[0m     y \u001b[39m=\u001b[39m func(\u001b[39m*\u001b[39mx)\n\u001b[1;32m     27\u001b[0m     \u001b[39mprint\u001b[39m(\u001b[39mf\u001b[39m\u001b[39m\"\u001b[39m\u001b[39m  \u001b[39m\u001b[39m{\u001b[39;00mi\u001b[39m}\u001b[39;00m\u001b[39m : \u001b[39m\u001b[39m{\u001b[39;00mget_name(func)\u001b[39m}\u001b[39;00m\u001b[39m(\u001b[39m\u001b[39m{\u001b[39;00mx\u001b[39m}\u001b[39;00m\u001b[39m) =\u001b[39m\u001b[39m\"\u001b[39m, y )\n",
      "File \u001b[0;32m~/Skorch/.venv/lib/python3.10/site-packages/torch/nn/modules/module.py:1695\u001b[0m, in \u001b[0;36mModule.__getattr__\u001b[0;34m(self, name)\u001b[0m\n\u001b[1;32m   1693\u001b[0m     \u001b[39mif\u001b[39;00m name \u001b[39min\u001b[39;00m modules:\n\u001b[1;32m   1694\u001b[0m         \u001b[39mreturn\u001b[39;00m modules[name]\n\u001b[0;32m-> 1695\u001b[0m \u001b[39mraise\u001b[39;00m \u001b[39mAttributeError\u001b[39;00m(\u001b[39mf\u001b[39m\u001b[39m\"\u001b[39m\u001b[39m'\u001b[39m\u001b[39m{\u001b[39;00m\u001b[39mtype\u001b[39m(\u001b[39mself\u001b[39m)\u001b[39m.\u001b[39m\u001b[39m__name__\u001b[39m\u001b[39m}\u001b[39;00m\u001b[39m'\u001b[39m\u001b[39m object has no attribute \u001b[39m\u001b[39m'\u001b[39m\u001b[39m{\u001b[39;00mname\u001b[39m}\u001b[39;00m\u001b[39m'\u001b[39m\u001b[39m\"\u001b[39m)\n",
      "\u001b[0;31mAttributeError\u001b[0m: 'Module' object has no attribute 'items'"
     ]
    }
   ],
   "source": [
    "F=dn.X*nn.Linear(10,10)*nn.Linear(10,10)*nn.Linear(10,10)*nn.Linear(10,1)\n",
    "print(F)\n",
    "F(dn.torch.randn(1,10))"
   ]
  },
  {
   "cell_type": "code",
   "execution_count": 435,
   "metadata": {},
   "outputs": [
    {
     "data": {
      "text/plain": [
       "<denet.Module at 0x1490cf358520>"
      ]
     },
     "execution_count": 435,
     "metadata": {},
     "output_type": "execute_result"
    }
   ],
   "source": [
    "(dn.M*dn.nn.Linear(10,1)*dn.nn.Linear(10,1))*dn.M*dn.nn.Linear(10,1)*dn.nn.Linear(10,1)"
   ]
  },
  {
   "cell_type": "code",
   "execution_count": 130,
   "metadata": {},
   "outputs": [
    {
     "data": {
      "text/plain": [
       "OrderedDict([('weight',\n",
       "              Parameter containing:\n",
       "              tensor([[ 0.0210, -0.2803,  0.2470, -0.2882,  0.1995,  0.0718,  0.1174, -0.0941,\n",
       "                       -0.2891,  0.2726]], requires_grad=True)),\n",
       "             ('bias',\n",
       "              Parameter containing:\n",
       "              tensor([0.0600], requires_grad=True))])"
      ]
     },
     "execution_count": 130,
     "metadata": {},
     "output_type": "execute_result"
    }
   ],
   "source": [
    "dn.nn.Linear(10,1)._parameters"
   ]
  },
  {
   "cell_type": "code",
   "execution_count": 101,
   "metadata": {},
   "outputs": [],
   "source": [
    "class StringType:\n",
    "    def get(self) : ..."
   ]
  },
  {
   "cell_type": "code",
   "execution_count": 102,
   "metadata": {},
   "outputs": [],
   "source": [
    "StringType().get()"
   ]
  },
  {
   "cell_type": "code",
   "execution_count": 37,
   "metadata": {},
   "outputs": [
    {
     "data": {
      "text/plain": [
       "Sequential(\n",
       "  (0): Linear(in_features=10, out_features=1, bias=True)\n",
       ")"
      ]
     },
     "execution_count": 37,
     "metadata": {},
     "output_type": "execute_result"
    }
   ],
   "source": [
    "n1=dn.nn.Sequential()\n",
    "n1.add_module(\"0\",dn.nn.Linear(10,1))\n",
    "n1"
   ]
  },
  {
   "cell_type": "code",
   "execution_count": 4,
   "metadata": {},
   "outputs": [
    {
     "name": "stdout",
     "output_type": "stream",
     "text": [
      "\u001b[0;31mInit signature:\u001b[0m \u001b[0mdn\u001b[0m\u001b[0;34m.\u001b[0m\u001b[0mnn\u001b[0m\u001b[0;34m.\u001b[0m\u001b[0mModule\u001b[0m\u001b[0;34m(\u001b[0m\u001b[0;34m*\u001b[0m\u001b[0margs\u001b[0m\u001b[0;34m,\u001b[0m \u001b[0;34m**\u001b[0m\u001b[0mkwargs\u001b[0m\u001b[0;34m)\u001b[0m \u001b[0;34m->\u001b[0m \u001b[0;32mNone\u001b[0m\u001b[0;34m\u001b[0m\u001b[0;34m\u001b[0m\u001b[0m\n",
      "\u001b[0;31mDocstring:\u001b[0m     \n",
      "Base class for all neural network modules.\n",
      "\n",
      "Your models should also subclass this class.\n",
      "\n",
      "Modules can also contain other Modules, allowing to nest them in\n",
      "a tree structure. You can assign the submodules as regular attributes::\n",
      "\n",
      "    import torch.nn as nn\n",
      "    import torch.nn.functional as F\n",
      "\n",
      "    class Model(nn.Module):\n",
      "        def __init__(self):\n",
      "            super().__init__()\n",
      "            self.conv1 = nn.Conv2d(1, 20, 5)\n",
      "            self.conv2 = nn.Conv2d(20, 20, 5)\n",
      "\n",
      "        def forward(self, x):\n",
      "            x = F.relu(self.conv1(x))\n",
      "            return F.relu(self.conv2(x))\n",
      "\n",
      "Submodules assigned in this way will be registered, and will have their\n",
      "parameters converted too when you call :meth:`to`, etc.\n",
      "\n",
      ".. note::\n",
      "    As per the example above, an ``__init__()`` call to the parent class\n",
      "    must be made before assignment on the child.\n",
      "\n",
      ":ivar training: Boolean represents whether this module is in training or\n",
      "                evaluation mode.\n",
      ":vartype training: bool\n",
      "\u001b[0;31mInit docstring:\u001b[0m Initializes internal Module state, shared by both nn.Module and ScriptModule.\n",
      "\u001b[0;31mFile:\u001b[0m           ~/Skorch/.venv/lib/python3.10/site-packages/torch/nn/modules/module.py\n",
      "\u001b[0;31mType:\u001b[0m           type\n",
      "\u001b[0;31mSubclasses:\u001b[0m     Identity, Linear, Bilinear, _ConvNd, Threshold, ReLU, RReLU, Hardtanh, Sigmoid, Hardsigmoid, ..."
     ]
    }
   ],
   "source": [
    "dn.nn.Module?"
   ]
  }
 ],
 "metadata": {
  "kernelspec": {
   "display_name": "Python [conda env:.venv]",
   "language": "python",
   "name": "conda-env-.venv-py"
  },
  "language_info": {
   "codemirror_mode": {
    "name": "ipython",
    "version": 3
   },
   "file_extension": ".py",
   "mimetype": "text/x-python",
   "name": "python",
   "nbconvert_exporter": "python",
   "pygments_lexer": "ipython3",
   "version": "3.10.13"
  }
 },
 "nbformat": 4,
 "nbformat_minor": 2
}

{
 "cells": [
  {
   "cell_type": "code",
   "execution_count": 12,
   "metadata": {},
   "outputs": [
    {
     "name": "stdout",
     "output_type": "stream",
     "text": [
      "/home/myf/Skorch/src/MoNet\n"
     ]
    }
   ],
   "source": [
    "%cd \"~/Skorch/src/MoNet/\""
   ]
  },
  {
   "cell_type": "code",
   "execution_count": 11,
   "metadata": {},
   "outputs": [
    {
     "ename": "ImportError",
     "evalue": "cannot import name 'FuncModel' from 'MoNet' (/home/myf/Skorch/src/MoNet/__init__.py)",
     "output_type": "error",
     "traceback": [
      "\u001b[0;31m---------------------------------------------------------------------------\u001b[0m",
      "\u001b[0;31mImportError\u001b[0m                               Traceback (most recent call last)",
      "\u001b[1;32md:\\Code\\Skorch\\src\\MoNet\\test_denet.ipynb 单元格 2\u001b[0m line \u001b[0;36m3\n\u001b[1;32m      <a href='vscode-notebook-cell:/d%3A/Code/Skorch/src/MoNet/test_denet.ipynb#W1sZmlsZQ%3D%3D?line=0'>1</a>\u001b[0m \u001b[39mimport\u001b[39;00m \u001b[39mtorch\u001b[39;00m\n\u001b[1;32m      <a href='vscode-notebook-cell:/d%3A/Code/Skorch/src/MoNet/test_denet.ipynb#W1sZmlsZQ%3D%3D?line=1'>2</a>\u001b[0m \u001b[39mimport\u001b[39;00m \u001b[39mtorch\u001b[39;00m\u001b[39m.\u001b[39;00m\u001b[39mnn\u001b[39;00m \u001b[39mas\u001b[39;00m \u001b[39mnn\u001b[39;00m\n\u001b[0;32m----> <a href='vscode-notebook-cell:/d%3A/Code/Skorch/src/MoNet/test_denet.ipynb#W1sZmlsZQ%3D%3D?line=2'>3</a>\u001b[0m \u001b[39mfrom\u001b[39;00m \u001b[39mMoNet\u001b[39;00m \u001b[39mimport\u001b[39;00m FuncModel \u001b[39mas\u001b[39;00m fn\n\u001b[1;32m      <a href='vscode-notebook-cell:/d%3A/Code/Skorch/src/MoNet/test_denet.ipynb#W1sZmlsZQ%3D%3D?line=3'>4</a>\u001b[0m \u001b[39mimport\u001b[39;00m \u001b[39mimportlib\u001b[39;00m\n\u001b[1;32m      <a href='vscode-notebook-cell:/d%3A/Code/Skorch/src/MoNet/test_denet.ipynb#W1sZmlsZQ%3D%3D?line=4'>5</a>\u001b[0m importlib\u001b[39m.\u001b[39mreload(fn)\n",
      "\u001b[0;31mImportError\u001b[0m: cannot import name 'FuncModel' from 'MoNet' (/home/myf/Skorch/src/MoNet/__init__.py)"
     ]
    }
   ],
   "source": [
    "import torch\n",
    "import torch.nn as nn\n",
    "from MoNet import FuncModel as fn\n",
    "import importlib\n",
    "importlib.reload(fn)"
   ]
  },
  {
   "cell_type": "code",
   "execution_count": null,
   "metadata": {},
   "outputs": [],
   "source": []
  },
  {
   "cell_type": "code",
   "execution_count": 1130,
   "metadata": {},
   "outputs": [
    {
     "name": "stdout",
     "output_type": "stream",
     "text": [
      "Module ( [6, 3, 8, 2, 5, 1]\n",
      "Module ( [6, 3, 8, 2, 5, 1]\n",
      "Module ( [6, 3, 8, 2, 5, 1]\n",
      "  0 : @dup:sorted *id:23101317881600 ([6, 3, 8, 2, 5, 1],) > [1, 2, 3, 5, 6, 8]\n",
      "  1 : @dup:max *id:23101317881312 ([1, 2, 3, 5, 6, 8],) > 8\n",
      ")  > 8\n",
      "  1 : @dup:sum *id:23101317881024 ([6, 3, 8, 2, 5, 1],) > 25\n",
      ")  > [8, 25]\n",
      "  1 : @dup:min *id:23101317880256 ([8, 25],) > 8\n",
      ")  > 8\n"
     ]
    },
    {
     "data": {
      "text/plain": [
       "8"
      ]
     },
     "execution_count": 1130,
     "metadata": {},
     "output_type": "execute_result"
    }
   ],
   "source": [
    "F=(dn.m([sorted,max])+dn.m()*sum)*min\n",
    "# print(F)\n",
    "F.p([6,3,8,2,5,1])"
   ]
  },
  {
   "cell_type": "code",
   "execution_count": 1131,
   "metadata": {},
   "outputs": [
    {
     "data": {
      "text/plain": [
       "[1, 1, 1]"
      ]
     },
     "execution_count": 1131,
     "metadata": {},
     "output_type": "execute_result"
    }
   ],
   "source": [
    "(dn.m([abs,abs])+dn.m([abs,abs]))(-1)"
   ]
  },
  {
   "cell_type": "code",
   "execution_count": 1132,
   "metadata": {},
   "outputs": [
    {
     "data": {
      "text/plain": [
       "@dup:sum2 *id:23101317882704"
      ]
     },
     "execution_count": 1132,
     "metadata": {},
     "output_type": "execute_result"
    }
   ],
   "source": [
    "@dn.M.dup\n",
    "def sum2(x):\n",
    "    return sum(x)\n",
    "sum2"
   ]
  },
  {
   "cell_type": "code",
   "execution_count": 1133,
   "metadata": {},
   "outputs": [
    {
     "data": {
      "text/plain": [
       "SEQ>Module(\n",
       "  (0): LIC>Module(\n",
       "    (0): SEQ>Module(\n",
       "      (0): @dup:sum *id:23101317884912\n",
       "      (1): @dup:abs *id:23101318840864\n",
       "    )\n",
       "    (1): @dup:max *id:23101318847152\n",
       "  )\n",
       "  (1): SEQ>Module(\n",
       "    (0): @dup:sum *id:23101318854016\n",
       "    (1): @dup:abs *id:23101331040304\n",
       "  )\n",
       "  (2): @dup:min *id:23101317639104\n",
       ")"
      ]
     },
     "execution_count": 1133,
     "metadata": {},
     "output_type": "execute_result"
    }
   ],
   "source": [
    "A1=dn.M()*sum*abs+max\n",
    "A2=dn.m([sum,abs])+min\n",
    "A=A1*A2\n",
    "A"
   ]
  },
  {
   "cell_type": "code",
   "execution_count": 1134,
   "metadata": {},
   "outputs": [
    {
     "data": {
      "text/plain": [
       "SEQ>Module(\n",
       "  (0): @dup:sum *id:23101317882176\n",
       "  (1): @dup:abs *id:23101317881648\n",
       "  (2): @dup:sum *id:23101317876224\n",
       "  (3): @dup:abs *id:23101317876176\n",
       ")"
      ]
     },
     "execution_count": 1134,
     "metadata": {},
     "output_type": "execute_result"
    }
   ],
   "source": [
    "A1=dn.M([sum,abs])\n",
    "A=dn.m([sum,abs])*A1\n",
    "A"
   ]
  },
  {
   "cell_type": "code",
   "execution_count": 1105,
   "metadata": {},
   "outputs": [
    {
     "data": {
      "text/plain": [
       "sum>Module()"
      ]
     },
     "execution_count": 1105,
     "metadata": {},
     "output_type": "execute_result"
    }
   ],
   "source": [
    "dn.M(call=sum)"
   ]
  },
  {
   "cell_type": "code",
   "execution_count": 1106,
   "metadata": {},
   "outputs": [
    {
     "name": "stdout",
     "output_type": "stream",
     "text": [
      "LIC>Module(\n",
      "  (0): SEQ>Module(\n",
      "    (0): LIC>Module(\n",
      "      (0): SEQ>Module(\n",
      "        (0): @dup:sum *id:23101326200016\n",
      "        (1): @dup:abs *id:23101326199104\n",
      "      )\n",
      "      (1): @dup:max *id:23101326211392\n",
      "    )\n",
      "    (1): @dup:min *id:23101326206688\n",
      "  )\n",
      "  (1): @dup:max *id:23101348318224\n",
      ")\n"
     ]
    }
   ],
   "source": [
    "F=(dn.m()*sum*abs+max)*min+max\n",
    "print(F)\n",
    "# F([1,2,3])"
   ]
  },
  {
   "cell_type": "code",
   "execution_count": 427,
   "metadata": {},
   "outputs": [
    {
     "data": {
      "text/plain": [
       "SEQ>Module(\n",
       "  (0): @dup:Linear(in_features=10, out_features=10, bias=True) *id:23101348321584\n",
       "  (1): @dup:Linear(in_features=10, out_features=1, bias=True) *id:23101348320528\n",
       "  (2): @dup:Linear(in_features=10, out_features=10, bias=True) *id:23101349076448\n",
       "  (3): @dup:Linear(in_features=10, out_features=1, bias=True) *id:23101348319520\n",
       ")"
      ]
     },
     "execution_count": 427,
     "metadata": {},
     "output_type": "execute_result"
    }
   ],
   "source": [
    "((dn.x*dn.nn.Linear(10,10))*nn.Linear(10,1))*((dn.x*dn.nn.Linear(10,10))*nn.Linear(10,1))"
   ]
  },
  {
   "cell_type": "code",
   "execution_count": 428,
   "metadata": {},
   "outputs": [
    {
     "data": {
      "text/plain": [
       "SEQ>Module(\n",
       "  (0): @dup:Linear(in_features=10, out_features=10, bias=True) *id:23101348326768\n",
       "  (1): @dup:Linear(in_features=10, out_features=1, bias=True) *id:23101348317744\n",
       "  (2): @dup:Linear(in_features=10, out_features=10, bias=True) *id:23101348327920\n",
       "  (3): @dup:Linear(in_features=10, out_features=1, bias=True) *id:23101348317120\n",
       ")"
      ]
     },
     "execution_count": 428,
     "metadata": {},
     "output_type": "execute_result"
    }
   ],
   "source": [
    "((dn.X*dn.nn.Linear(10,10))*nn.Linear(10,1))*((dn.X*dn.nn.Linear(10,10))*nn.Linear(10,1))"
   ]
  },
  {
   "cell_type": "code",
   "execution_count": 1137,
   "metadata": {},
   "outputs": [
    {
     "name": "stdout",
     "output_type": "stream",
     "text": [
      "SEQ>Module(\n",
      "  (0): @dup:Linear(in_features=10, out_features=10, bias=True) *id:23101316224848\n",
      "  (1): @dup:Linear(in_features=10, out_features=10, bias=True) *id:23101316224128\n",
      "  (2): @dup:Linear(in_features=10, out_features=10, bias=True) *id:23101316223264\n",
      "  (3): @dup:Linear(in_features=10, out_features=1, bias=True) *id:23101316225280\n",
      ")\n",
      "tensor([[0.5000]], grad_fn=<AddmmBackward0>)\n",
      "tensor([[0.5787]], grad_fn=<AddmmBackward0>)\n",
      "tensor([[0.6104]], grad_fn=<AddmmBackward0>)\n",
      "tensor([[0.6185]], grad_fn=<AddmmBackward0>)\n",
      "tensor([[0.5445]], grad_fn=<AddmmBackward0>)\n",
      "tensor([[0.5043]], grad_fn=<AddmmBackward0>)\n",
      "tensor([[0.4414]], grad_fn=<AddmmBackward0>)\n",
      "tensor([[0.5980]], grad_fn=<AddmmBackward0>)\n",
      "tensor([[0.4936]], grad_fn=<AddmmBackward0>)\n",
      "tensor([[0.3874]], grad_fn=<AddmmBackward0>)\n",
      "tensor([[0.4294]], grad_fn=<AddmmBackward0>)\n",
      "tensor([[0.4715]], grad_fn=<AddmmBackward0>)\n",
      "tensor([[0.3539]], grad_fn=<AddmmBackward0>)\n",
      "tensor([[0.4931]], grad_fn=<AddmmBackward0>)\n",
      "tensor([[0.4239]], grad_fn=<AddmmBackward0>)\n",
      "tensor([[0.6670]], grad_fn=<AddmmBackward0>)\n",
      "tensor([[0.4035]], grad_fn=<AddmmBackward0>)\n",
      "tensor([[0.6540]], grad_fn=<AddmmBackward0>)\n",
      "tensor([[0.4483]], grad_fn=<AddmmBackward0>)\n",
      "tensor([[0.5762]], grad_fn=<AddmmBackward0>)\n"
     ]
    }
   ],
   "source": [
    "F=dn.X*nn.Linear(10,10)*nn.Linear(10,10)*nn.Linear(10,10)*nn.Linear(10,1)\n",
    "print(F)\n",
    "for i in range(20):\n",
    "    print(F(dn.torch.randn(1,10)))"
   ]
  },
  {
   "cell_type": "code",
   "execution_count": 1147,
   "metadata": {},
   "outputs": [
    {
     "data": {
      "text/plain": [
       "SEQ>Module(\n",
       "  (0): @dup:Linear(in_features=10, out_features=1, bias=True) *id:23101292963216\n",
       "  (1): @dup:Linear(in_features=10, out_features=1, bias=True) *id:23101293260192\n",
       "  (2): @dup:Linear(in_features=10, out_features=1, bias=True) *id:23101293258896\n",
       "  (3): @dup:Linear(in_features=10, out_features=1, bias=True) *id:23101293251312\n",
       ")"
      ]
     },
     "execution_count": 1147,
     "metadata": {},
     "output_type": "execute_result"
    }
   ],
   "source": [
    "(dn.X*dn.nn.Linear(10,1)*dn.nn.Linear(10,1))*dn.X*dn.nn.Linear(10,1)*dn.nn.Linear(10,1)"
   ]
  }
 ],
 "metadata": {
  "kernelspec": {
   "display_name": "Python [conda env:.venv]",
   "language": "python",
   "name": "conda-env-.venv-py"
  },
  "language_info": {
   "codemirror_mode": {
    "name": "ipython",
    "version": 3
   },
   "file_extension": ".py",
   "mimetype": "text/x-python",
   "name": "python",
   "nbconvert_exporter": "python",
   "pygments_lexer": "ipython3",
   "version": "3.10.13"
  }
 },
 "nbformat": 4,
 "nbformat_minor": 2
}
